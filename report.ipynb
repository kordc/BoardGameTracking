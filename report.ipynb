{
 "cells": [
  {
   "attachments": {},
   "cell_type": "markdown",
   "metadata": {},
   "source": [
    "# **Cyclades** board game tracking\n",
    "\n",
    "* Karol Cyganik, 148250\n",
    "* Sebastian Chwilczyński 148248"
   ]
  },
  {
   "attachments": {},
   "cell_type": "markdown",
   "metadata": {},
   "source": [
    "In this notebook we will present our solution for the **Cyclades** board game tracking. We will show how we implemented the game logic and how we tracked objects on the board, as well as events.\n",
    "<br>\n",
    "This game is for 2-4 players, we similated the game for 3 players. The game is played on board, which can be divided into 2 parts - left, where every player has to bet some money for chosen god, and right, where the game is played. The game is played in turns, where every player can do one of the following actions:\n",
    "* Bet money for chosen god\n",
    "* Place a ship on the board\n",
    "* Place a warrior on the board\n",
    "* Fight with other player\n",
    "* Place cities on the board\n",
    "\n",
    "We decided to record movies with 3 levels of difficulty. It turned out, that even the first one is very hard, corresponding to the level 3 in the project description. There we have an angled view of the board, static camera view and sometimes we cover elements by hand. The second level is harder, as it introduces slightly different angle and different light conditions (random shadows). The third one is almost impossible to process, because we have there a dynamic camera view with a acute angle and random shadows. We also have a lot of objects on the board, which makes it even harder to track.\n",
    "\n",
    "We decided to track several objects:\n",
    "* Ships (and their colors)\n",
    "* Warriors (and their colors)\n",
    "* Counters (and their colors, for betting)\n",
    "* Gods' cards\n",
    "* Circles, which are used to mark the ares we can put ships/warriors on (with their type)\n",
    "* Islands\n",
    "* Cities?????\n",
    "\n",
    "We also track several events:\n",
    "* Placing ships\n",
    "* Placing warriors\n",
    "* Placing gods' cards\n",
    "* Placing counters for betting\n",
    "* Placing cities ?????\n",
    "* Moving ships\n",
    "* Moving warriors\n",
    "* Moving counters while betting\n",
    "* Drawing a card\n",
    "* Assingning an island to a player\n",
    "\n",
    "As a gameplay status, and score, we track:\n",
    "* Total number of ships, and warriors\n",
    "* Total number of taken islands\n",
    "* Total number of cities -> an indicator who wins the game?????\n"
   ]
  },
  {
   "attachments": {},
   "cell_type": "markdown",
   "metadata": {},
   "source": [
    "## Dataset"
   ]
  },
  {
   "attachments": {},
   "cell_type": "markdown",
   "metadata": {},
   "source": [
    "### Level 1\n",
    "Example of frames from the first level of difficulty"
   ]
  },
  {
   "attachments": {},
   "cell_type": "markdown",
   "metadata": {},
   "source": [
    "### Level 2\n",
    "Example of frames from the second level of difficulty"
   ]
  },
  {
   "attachments": {},
   "cell_type": "markdown",
   "metadata": {},
   "source": [
    "### Level 3\n",
    "Example of frames from the third level of difficulty"
   ]
  },
  {
   "attachments": {},
   "cell_type": "markdown",
   "metadata": {},
   "source": [
    "## Milestone 1 - first experiments with dataset"
   ]
  },
  {
   "attachments": {},
   "cell_type": "markdown",
   "metadata": {},
   "source": [
    "(cherry-picked from the first notebook)"
   ]
  },
  {
   "attachments": {},
   "cell_type": "markdown",
   "metadata": {},
   "source": [
    "## Frame processing pipeline"
   ]
  },
  {
   "attachments": {},
   "cell_type": "markdown",
   "metadata": {},
   "source": [
    "### Pre and first firm processing"
   ]
  },
  {
   "attachments": {},
   "cell_type": "markdown",
   "metadata": {},
   "source": [
    "(explanation of what and how we do it)"
   ]
  },
  {
   "attachments": {},
   "cell_type": "markdown",
   "metadata": {},
   "source": [
    "### Each frame processing"
   ]
  },
  {
   "attachments": {},
   "cell_type": "markdown",
   "metadata": {},
   "source": [
    "(explanation of what and how we do it)"
   ]
  },
  {
   "attachments": {},
   "cell_type": "markdown",
   "metadata": {},
   "source": [
    "## Object detection and game events"
   ]
  },
  {
   "attachments": {},
   "cell_type": "markdown",
   "metadata": {},
   "source": [
    "(example frames from the first level of difficulty)"
   ]
  },
  {
   "attachments": {},
   "cell_type": "markdown",
   "metadata": {},
   "source": [
    "## Results on each dataset"
   ]
  },
  {
   "attachments": {},
   "cell_type": "markdown",
   "metadata": {},
   "source": [
    "(python video player with results)"
   ]
  },
  {
   "attachments": {},
   "cell_type": "markdown",
   "metadata": {},
   "source": [
    "## Conclusion"
   ]
  },
  {
   "cell_type": "markdown",
   "metadata": {},
   "source": []
  }
 ],
 "metadata": {
  "kernelspec": {
   "display_name": "Python 3",
   "language": "python",
   "name": "python3"
  },
  "language_info": {
   "name": "python",
   "version": "3.9.0 (tags/v3.9.0:9cf6752, Oct  5 2020, 15:34:40) [MSC v.1927 64 bit (AMD64)]"
  },
  "orig_nbformat": 4,
  "vscode": {
   "interpreter": {
    "hash": "d938c375e6e2a2b94db19e540527a5d7d80fbd1055fc33c5eeb59a5dcfa9a532"
   }
  }
 },
 "nbformat": 4,
 "nbformat_minor": 2
}
